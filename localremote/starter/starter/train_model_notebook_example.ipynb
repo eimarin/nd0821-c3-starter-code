{
 "cells": [
  {
   "cell_type": "code",
   "execution_count": 2,
   "id": "f76d8b94",
   "metadata": {},
   "outputs": [],
   "source": [
    "from sklearn.model_selection import train_test_split\n",
    "import pandas as pd\n",
    "import sys\n",
    "from sklearn.ensemble import RandomForestRegressor\n",
    "from sklearn.metrics import mean_absolute_error\n",
    "from ml.data import *\n",
    "from ml.model import *"
   ]
  },
  {
   "cell_type": "code",
   "execution_count": 3,
   "id": "c35053da",
   "metadata": {},
   "outputs": [
    {
     "name": "stderr",
     "output_type": "stream",
     "text": [
      "/Users/administrador/opt/anaconda3/lib/python3.9/site-packages/sklearn/preprocessing/_encoders.py:868: FutureWarning: `sparse` was renamed to `sparse_output` in version 1.2 and will be removed in 1.4. `sparse_output` is ignored unless you leave `sparse` to its default value.\n",
      "  warnings.warn(\n"
     ]
    }
   ],
   "source": [
    "# Script to train machine learning model.\n",
    "sys.path.insert(0, 'ml')\n",
    "\n",
    "from data import *\n",
    "# Add the necessary imports for the starter code.\n",
    "\n",
    "# Add code to load in the data.\n",
    "data = pd.read_csv('../data/census.csv')\n",
    "\n",
    "data.columns = data.columns.str.strip()\n",
    "# Optional enhancement, use K-fold cross validation instead of a train-test split.\n",
    "train, test = train_test_split(data, test_size=0.20)\n",
    "\n",
    "cat_features = [\n",
    "    \"workclass\",\n",
    "    \"education\",\n",
    "    \"marital-status\",\n",
    "    \"occupation\",\n",
    "    \"relationship\",\n",
    "    \"race\",\n",
    "    \"sex\",\n",
    "    \"native-country\",\n",
    "]\n",
    "# this maps all columns to numbers\n",
    "X_train, y_train, encoder, lb = process_data(\n",
    "    train, categorical_features=cat_features, label=\"salary\", training=True\n",
    ")\n",
    "\n"
   ]
  },
  {
   "cell_type": "code",
   "execution_count": 4,
   "id": "bdf7e098",
   "metadata": {},
   "outputs": [
    {
     "data": {
      "text/plain": [
       "array([[3.30000e+01, 1.71876e+05, 1.00000e+01, ..., 1.00000e+00,\n",
       "        0.00000e+00, 0.00000e+00],\n",
       "       [4.10000e+01, 2.82882e+05, 9.00000e+00, ..., 1.00000e+00,\n",
       "        0.00000e+00, 0.00000e+00],\n",
       "       [8.40000e+01, 2.41065e+05, 1.40000e+01, ..., 1.00000e+00,\n",
       "        0.00000e+00, 0.00000e+00],\n",
       "       ...,\n",
       "       [3.40000e+01, 2.13722e+05, 9.00000e+00, ..., 1.00000e+00,\n",
       "        0.00000e+00, 0.00000e+00],\n",
       "       [7.30000e+01, 3.49347e+05, 4.00000e+00, ..., 1.00000e+00,\n",
       "        0.00000e+00, 0.00000e+00],\n",
       "       [2.50000e+01, 1.09419e+05, 9.00000e+00, ..., 1.00000e+00,\n",
       "        0.00000e+00, 0.00000e+00]])"
      ]
     },
     "execution_count": 4,
     "metadata": {},
     "output_type": "execute_result"
    }
   ],
   "source": [
    "X_train"
   ]
  },
  {
   "cell_type": "code",
   "execution_count": 5,
   "id": "227983a5",
   "metadata": {},
   "outputs": [],
   "source": [
    "random_Forest = RandomForestRegressor(n_estimators = 100, max_depth= 15)"
   ]
  },
  {
   "cell_type": "code",
   "execution_count": 7,
   "id": "7c7510d9",
   "metadata": {},
   "outputs": [
    {
     "name": "stderr",
     "output_type": "stream",
     "text": [
      "/Users/administrador/opt/anaconda3/lib/python3.9/site-packages/sklearn/linear_model/_logistic.py:458: ConvergenceWarning: lbfgs failed to converge (status=1):\n",
      "STOP: TOTAL NO. of ITERATIONS REACHED LIMIT.\n",
      "\n",
      "Increase the number of iterations (max_iter) or scale the data as shown in:\n",
      "    https://scikit-learn.org/stable/modules/preprocessing.html\n",
      "Please also refer to the documentation for alternative solver options:\n",
      "    https://scikit-learn.org/stable/modules/linear_model.html#logistic-regression\n",
      "  n_iter_i = _check_optimize_result(\n"
     ]
    },
    {
     "data": {
      "text/plain": [
       "sklearn.linear_model._logistic.LogisticRegression"
      ]
     },
     "execution_count": 7,
     "metadata": {},
     "output_type": "execute_result"
    }
   ],
   "source": [
    "# Proces the test data with the process_data function.\n",
    "X_test, y_test, encoder, lb = process_data(\n",
    "    train, categorical_features=cat_features, label=\"salary\", training=False, encoder = encoder, lb=lb\n",
    ")\n",
    "model = train_model(X_train, y_train)\n",
    "\n",
    "type(model)\n"
   ]
  },
  {
   "cell_type": "code",
   "execution_count": 33,
   "id": "62742099",
   "metadata": {},
   "outputs": [],
   "source": [
    "r_squared = random_Forest.score(X_test, y_test)\n",
    "\n",
    "y_pred = random_Forest.predict(X_test)"
   ]
  },
  {
   "cell_type": "code",
   "execution_count": 34,
   "id": "357c9a0e",
   "metadata": {},
   "outputs": [],
   "source": [
    "mae = mean_absolute_error(y_test, y_pred)"
   ]
  },
  {
   "cell_type": "code",
   "execution_count": 35,
   "id": "ecd86015",
   "metadata": {},
   "outputs": [
    {
     "name": "stdout",
     "output_type": "stream",
     "text": [
      "r2: 0.7958065108173116\n",
      "mae: 0.11096658136788133\n"
     ]
    }
   ],
   "source": [
    "print('r2:',str(r_squared))\n",
    "print('mae:',str(mae))"
   ]
  },
  {
   "cell_type": "code",
   "execution_count": null,
   "id": "369570f5",
   "metadata": {},
   "outputs": [],
   "source": [
    "#v2"
   ]
  },
  {
   "cell_type": "code",
   "execution_count": 34,
   "id": "7b5e11b4",
   "metadata": {},
   "outputs": [
    {
     "name": "stderr",
     "output_type": "stream",
     "text": [
      "/Users/administrador/opt/anaconda3/lib/python3.9/site-packages/sklearn/preprocessing/_encoders.py:868: FutureWarning: `sparse` was renamed to `sparse_output` in version 1.2 and will be removed in 1.4. `sparse_output` is ignored unless you leave `sparse` to its default value.\n",
      "  warnings.warn(\n"
     ]
    },
    {
     "name": "stdout",
     "output_type": "stream",
     "text": [
      "precision, 0.7809128630705394\n",
      "recall, 0.5925692695214105\n",
      "fbeta, 0.673827425707125\n"
     ]
    }
   ],
   "source": [
    "# Script to train machine learning model.\n",
    "\n",
    "from sklearn.model_selection import train_test_split\n",
    "import pandas as pd\n",
    "import sys\n",
    "import joblib\n",
    "\n",
    "from ml.data import *\n",
    "from ml.model import *  \n",
    "# Add the necessary imports for the starter code.\n",
    "\n",
    "# Add code to load in the data.\n",
    "\n",
    "\n",
    "def metrics_based_slice(X_test, slice_column, y_test, y_pred):\n",
    "    value_list = X_test[slice_column].unique.tolist()\n",
    "    for value in value_list:\n",
    "        mask = test[slice_column] == value\n",
    "        y_test_slice = y_test[mask]\n",
    "        y_pred_slice = y_pred[mask]\n",
    "        precision, recall, fbeta = compute_model_metrics(y_test, y_pred)\n",
    "        print(slice_column + ' ' + value)\n",
    "        print('precision,',str(precision))\n",
    "        print('recall,',str(recall))\n",
    "        print('fbeta,',str(fbeta))\n",
    "        print(38*'-')\n",
    "\n",
    "\n",
    "\n",
    "\n",
    "data = pd.read_csv('../data/census.csv')\n",
    "\n",
    "data.columns = data.columns.str.strip()\n",
    "# Optional enhancement, use K-fold cross validation instead of a train-test split.\n",
    "train, test = train_test_split(data, test_size=0.20)\n",
    "\n",
    "cat_features = [\n",
    "    \"workclass\",\n",
    "    \"education\",\n",
    "    \"marital-status\",\n",
    "    \"occupation\",\n",
    "    \"relationship\",\n",
    "    \"race\",\n",
    "    \"sex\",\n",
    "    \"native-country\",\n",
    "]\n",
    "X_train, y_train, encoder, lb = process_data(\n",
    "    train, categorical_features=cat_features, label=\"salary\", training=True\n",
    ")\n",
    "\n",
    "# Proces the test data with the process_data function.\n",
    "X_test, y_test, encoder, lb = process_data(\n",
    "    test, categorical_features=cat_features, label=\"salary\", training=False, encoder = encoder, lb=lb\n",
    ")\n",
    "\n",
    "model = train_model(X_train, y_train)\n",
    "y_pred = inference(model, X_test)\n",
    "\n",
    "precision, recall, fbeta = compute_model_metrics(y_test, y_pred)\n",
    "print('precision,',str(precision))\n",
    "print('recall,',str(recall))\n",
    "print('fbeta,',str(fbeta))\n",
    "\n",
    "model_str_name = 'model_rf_classifier_v1'\n",
    "# save model\n",
    "joblib.dump(model, '../model/{}.pkl'.format(model_str_name))\n",
    "\n",
    "slice_column = 'education'\n",
    "# metrics_based_slice(X_test, slice_column, y_test, y_pred)"
   ]
  },
  {
   "cell_type": "code",
   "execution_count": 35,
   "id": "61288ca7",
   "metadata": {},
   "outputs": [
    {
     "data": {
      "text/html": [
       "<div>\n",
       "<style scoped>\n",
       "    .dataframe tbody tr th:only-of-type {\n",
       "        vertical-align: middle;\n",
       "    }\n",
       "\n",
       "    .dataframe tbody tr th {\n",
       "        vertical-align: top;\n",
       "    }\n",
       "\n",
       "    .dataframe thead th {\n",
       "        text-align: right;\n",
       "    }\n",
       "</style>\n",
       "<table border=\"1\" class=\"dataframe\">\n",
       "  <thead>\n",
       "    <tr style=\"text-align: right;\">\n",
       "      <th></th>\n",
       "      <th>age</th>\n",
       "      <th>workclass</th>\n",
       "      <th>fnlgt</th>\n",
       "      <th>education</th>\n",
       "      <th>education-num</th>\n",
       "      <th>marital-status</th>\n",
       "      <th>occupation</th>\n",
       "      <th>relationship</th>\n",
       "      <th>race</th>\n",
       "      <th>sex</th>\n",
       "      <th>capital-gain</th>\n",
       "      <th>capital-loss</th>\n",
       "      <th>hours-per-week</th>\n",
       "      <th>native-country</th>\n",
       "      <th>salary</th>\n",
       "    </tr>\n",
       "  </thead>\n",
       "  <tbody>\n",
       "    <tr>\n",
       "      <th>13910</th>\n",
       "      <td>73</td>\n",
       "      <td>Self-emp-inc</td>\n",
       "      <td>80986</td>\n",
       "      <td>HS-grad</td>\n",
       "      <td>9</td>\n",
       "      <td>Married-civ-spouse</td>\n",
       "      <td>Sales</td>\n",
       "      <td>Husband</td>\n",
       "      <td>White</td>\n",
       "      <td>Male</td>\n",
       "      <td>0</td>\n",
       "      <td>0</td>\n",
       "      <td>20</td>\n",
       "      <td>United-States</td>\n",
       "      <td>&lt;=50K</td>\n",
       "    </tr>\n",
       "    <tr>\n",
       "      <th>7601</th>\n",
       "      <td>50</td>\n",
       "      <td>Private</td>\n",
       "      <td>110748</td>\n",
       "      <td>Some-college</td>\n",
       "      <td>10</td>\n",
       "      <td>Never-married</td>\n",
       "      <td>Prof-specialty</td>\n",
       "      <td>Not-in-family</td>\n",
       "      <td>White</td>\n",
       "      <td>Male</td>\n",
       "      <td>0</td>\n",
       "      <td>0</td>\n",
       "      <td>40</td>\n",
       "      <td>United-States</td>\n",
       "      <td>&lt;=50K</td>\n",
       "    </tr>\n",
       "    <tr>\n",
       "      <th>18710</th>\n",
       "      <td>49</td>\n",
       "      <td>Private</td>\n",
       "      <td>233639</td>\n",
       "      <td>11th</td>\n",
       "      <td>7</td>\n",
       "      <td>Married-civ-spouse</td>\n",
       "      <td>Other-service</td>\n",
       "      <td>Husband</td>\n",
       "      <td>White</td>\n",
       "      <td>Male</td>\n",
       "      <td>0</td>\n",
       "      <td>0</td>\n",
       "      <td>50</td>\n",
       "      <td>United-States</td>\n",
       "      <td>&lt;=50K</td>\n",
       "    </tr>\n",
       "    <tr>\n",
       "      <th>12135</th>\n",
       "      <td>40</td>\n",
       "      <td>Private</td>\n",
       "      <td>119493</td>\n",
       "      <td>Some-college</td>\n",
       "      <td>10</td>\n",
       "      <td>Never-married</td>\n",
       "      <td>Exec-managerial</td>\n",
       "      <td>Own-child</td>\n",
       "      <td>White</td>\n",
       "      <td>Female</td>\n",
       "      <td>0</td>\n",
       "      <td>0</td>\n",
       "      <td>40</td>\n",
       "      <td>United-States</td>\n",
       "      <td>&lt;=50K</td>\n",
       "    </tr>\n",
       "    <tr>\n",
       "      <th>5121</th>\n",
       "      <td>50</td>\n",
       "      <td>Private</td>\n",
       "      <td>71417</td>\n",
       "      <td>HS-grad</td>\n",
       "      <td>9</td>\n",
       "      <td>Married-civ-spouse</td>\n",
       "      <td>Craft-repair</td>\n",
       "      <td>Husband</td>\n",
       "      <td>White</td>\n",
       "      <td>Male</td>\n",
       "      <td>3103</td>\n",
       "      <td>0</td>\n",
       "      <td>40</td>\n",
       "      <td>United-States</td>\n",
       "      <td>&gt;50K</td>\n",
       "    </tr>\n",
       "    <tr>\n",
       "      <th>...</th>\n",
       "      <td>...</td>\n",
       "      <td>...</td>\n",
       "      <td>...</td>\n",
       "      <td>...</td>\n",
       "      <td>...</td>\n",
       "      <td>...</td>\n",
       "      <td>...</td>\n",
       "      <td>...</td>\n",
       "      <td>...</td>\n",
       "      <td>...</td>\n",
       "      <td>...</td>\n",
       "      <td>...</td>\n",
       "      <td>...</td>\n",
       "      <td>...</td>\n",
       "      <td>...</td>\n",
       "    </tr>\n",
       "    <tr>\n",
       "      <th>2845</th>\n",
       "      <td>50</td>\n",
       "      <td>Private</td>\n",
       "      <td>121685</td>\n",
       "      <td>Some-college</td>\n",
       "      <td>10</td>\n",
       "      <td>Married-civ-spouse</td>\n",
       "      <td>Sales</td>\n",
       "      <td>Husband</td>\n",
       "      <td>White</td>\n",
       "      <td>Male</td>\n",
       "      <td>0</td>\n",
       "      <td>0</td>\n",
       "      <td>45</td>\n",
       "      <td>United-States</td>\n",
       "      <td>&gt;50K</td>\n",
       "    </tr>\n",
       "    <tr>\n",
       "      <th>9786</th>\n",
       "      <td>30</td>\n",
       "      <td>Private</td>\n",
       "      <td>54608</td>\n",
       "      <td>Bachelors</td>\n",
       "      <td>13</td>\n",
       "      <td>Married-civ-spouse</td>\n",
       "      <td>Adm-clerical</td>\n",
       "      <td>Husband</td>\n",
       "      <td>White</td>\n",
       "      <td>Male</td>\n",
       "      <td>0</td>\n",
       "      <td>0</td>\n",
       "      <td>40</td>\n",
       "      <td>United-States</td>\n",
       "      <td>&lt;=50K</td>\n",
       "    </tr>\n",
       "    <tr>\n",
       "      <th>24629</th>\n",
       "      <td>52</td>\n",
       "      <td>Private</td>\n",
       "      <td>145271</td>\n",
       "      <td>Bachelors</td>\n",
       "      <td>13</td>\n",
       "      <td>Married-civ-spouse</td>\n",
       "      <td>Craft-repair</td>\n",
       "      <td>Husband</td>\n",
       "      <td>Asian-Pac-Islander</td>\n",
       "      <td>Male</td>\n",
       "      <td>0</td>\n",
       "      <td>0</td>\n",
       "      <td>40</td>\n",
       "      <td>United-States</td>\n",
       "      <td>&lt;=50K</td>\n",
       "    </tr>\n",
       "    <tr>\n",
       "      <th>21832</th>\n",
       "      <td>36</td>\n",
       "      <td>Private</td>\n",
       "      <td>65624</td>\n",
       "      <td>Bachelors</td>\n",
       "      <td>13</td>\n",
       "      <td>Never-married</td>\n",
       "      <td>Prof-specialty</td>\n",
       "      <td>Not-in-family</td>\n",
       "      <td>White</td>\n",
       "      <td>Male</td>\n",
       "      <td>0</td>\n",
       "      <td>0</td>\n",
       "      <td>40</td>\n",
       "      <td>United-States</td>\n",
       "      <td>&lt;=50K</td>\n",
       "    </tr>\n",
       "    <tr>\n",
       "      <th>24700</th>\n",
       "      <td>27</td>\n",
       "      <td>Private</td>\n",
       "      <td>230563</td>\n",
       "      <td>HS-grad</td>\n",
       "      <td>9</td>\n",
       "      <td>Never-married</td>\n",
       "      <td>Adm-clerical</td>\n",
       "      <td>Own-child</td>\n",
       "      <td>White</td>\n",
       "      <td>Female</td>\n",
       "      <td>0</td>\n",
       "      <td>0</td>\n",
       "      <td>40</td>\n",
       "      <td>United-States</td>\n",
       "      <td>&lt;=50K</td>\n",
       "    </tr>\n",
       "  </tbody>\n",
       "</table>\n",
       "<p>6513 rows × 15 columns</p>\n",
       "</div>"
      ],
      "text/plain": [
       "       age     workclass   fnlgt     education  education-num  \\\n",
       "13910   73  Self-emp-inc   80986       HS-grad              9   \n",
       "7601    50       Private  110748  Some-college             10   \n",
       "18710   49       Private  233639          11th              7   \n",
       "12135   40       Private  119493  Some-college             10   \n",
       "5121    50       Private   71417       HS-grad              9   \n",
       "...    ...           ...     ...           ...            ...   \n",
       "2845    50       Private  121685  Some-college             10   \n",
       "9786    30       Private   54608     Bachelors             13   \n",
       "24629   52       Private  145271     Bachelors             13   \n",
       "21832   36       Private   65624     Bachelors             13   \n",
       "24700   27       Private  230563       HS-grad              9   \n",
       "\n",
       "           marital-status       occupation   relationship                race  \\\n",
       "13910  Married-civ-spouse            Sales        Husband               White   \n",
       "7601        Never-married   Prof-specialty  Not-in-family               White   \n",
       "18710  Married-civ-spouse    Other-service        Husband               White   \n",
       "12135       Never-married  Exec-managerial      Own-child               White   \n",
       "5121   Married-civ-spouse     Craft-repair        Husband               White   \n",
       "...                   ...              ...            ...                 ...   \n",
       "2845   Married-civ-spouse            Sales        Husband               White   \n",
       "9786   Married-civ-spouse     Adm-clerical        Husband               White   \n",
       "24629  Married-civ-spouse     Craft-repair        Husband  Asian-Pac-Islander   \n",
       "21832       Never-married   Prof-specialty  Not-in-family               White   \n",
       "24700       Never-married     Adm-clerical      Own-child               White   \n",
       "\n",
       "          sex  capital-gain  capital-loss  hours-per-week native-country  \\\n",
       "13910    Male             0             0              20  United-States   \n",
       "7601     Male             0             0              40  United-States   \n",
       "18710    Male             0             0              50  United-States   \n",
       "12135  Female             0             0              40  United-States   \n",
       "5121     Male          3103             0              40  United-States   \n",
       "...       ...           ...           ...             ...            ...   \n",
       "2845     Male             0             0              45  United-States   \n",
       "9786     Male             0             0              40  United-States   \n",
       "24629    Male             0             0              40  United-States   \n",
       "21832    Male             0             0              40  United-States   \n",
       "24700  Female             0             0              40  United-States   \n",
       "\n",
       "      salary  \n",
       "13910  <=50K  \n",
       "7601   <=50K  \n",
       "18710  <=50K  \n",
       "12135  <=50K  \n",
       "5121    >50K  \n",
       "...      ...  \n",
       "2845    >50K  \n",
       "9786   <=50K  \n",
       "24629  <=50K  \n",
       "21832  <=50K  \n",
       "24700  <=50K  \n",
       "\n",
       "[6513 rows x 15 columns]"
      ]
     },
     "execution_count": 35,
     "metadata": {},
     "output_type": "execute_result"
    }
   ],
   "source": [
    "test"
   ]
  },
  {
   "cell_type": "code",
   "execution_count": 36,
   "id": "b29723a8",
   "metadata": {},
   "outputs": [
    {
     "data": {
      "text/plain": [
       "(6513,)"
      ]
     },
     "execution_count": 36,
     "metadata": {},
     "output_type": "execute_result"
    }
   ],
   "source": [
    "y_test.shape"
   ]
  },
  {
   "cell_type": "code",
   "execution_count": 37,
   "id": "2e0ba29a",
   "metadata": {},
   "outputs": [
    {
     "data": {
      "text/plain": [
       "(6513,)"
      ]
     },
     "execution_count": 37,
     "metadata": {},
     "output_type": "execute_result"
    }
   ],
   "source": [
    "y_pred.shape"
   ]
  },
  {
   "cell_type": "code",
   "execution_count": 38,
   "id": "57420fa7",
   "metadata": {},
   "outputs": [
    {
     "data": {
      "text/plain": [
       "array([0, 0, 0, ..., 1, 0, 0])"
      ]
     },
     "execution_count": 38,
     "metadata": {},
     "output_type": "execute_result"
    }
   ],
   "source": [
    "y_pred"
   ]
  },
  {
   "cell_type": "code",
   "execution_count": 39,
   "id": "b9d07f17",
   "metadata": {},
   "outputs": [
    {
     "data": {
      "text/plain": [
       "False    6439\n",
       "True       74\n",
       "Name: education, dtype: int64"
      ]
     },
     "execution_count": 39,
     "metadata": {},
     "output_type": "execute_result"
    }
   ],
   "source": [
    "slice_column = 'education'\n",
    "mask = np.array(test[slice_column] == 'Doctorate')\n",
    "(test[slice_column] == 'Doctorate').value_counts()"
   ]
  },
  {
   "cell_type": "code",
   "execution_count": 42,
   "id": "51238f20",
   "metadata": {},
   "outputs": [
    {
     "data": {
      "text/plain": [
       "masked_array(data=[0, 0, 0, ..., 0, 0, 0],\n",
       "             mask=[False, False, False, ..., False, False, False],\n",
       "       fill_value=999999)"
      ]
     },
     "execution_count": 42,
     "metadata": {},
     "output_type": "execute_result"
    }
   ],
   "source": [
    "y_test_slice = np.ma.masked_where(mask, y_test)\n",
    "y_test_slice"
   ]
  },
  {
   "cell_type": "code",
   "execution_count": null,
   "id": "868b6e39",
   "metadata": {},
   "outputs": [],
   "source": []
  }
 ],
 "metadata": {
  "kernelspec": {
   "display_name": "Python 3 (ipykernel)",
   "language": "python",
   "name": "python3"
  },
  "language_info": {
   "codemirror_mode": {
    "name": "ipython",
    "version": 3
   },
   "file_extension": ".py",
   "mimetype": "text/x-python",
   "name": "python",
   "nbconvert_exporter": "python",
   "pygments_lexer": "ipython3",
   "version": "3.9.7"
  }
 },
 "nbformat": 4,
 "nbformat_minor": 5
}
